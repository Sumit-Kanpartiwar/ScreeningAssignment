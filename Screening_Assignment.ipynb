{
 "cells": [
  {
   "cell_type": "markdown",
   "id": "71cf4617",
   "metadata": {},
   "source": [
    "Abstract Class"
   ]
  },
  {
   "cell_type": "raw",
   "id": "2525543f",
   "metadata": {},
   "source": [
    "An abstract class can be considered as a blueprint for other classes. It can not be instantiated(coverting to object) but we can create other classes that are inherited from abstract class. \n",
    "Abstraction helps to reduce the complexity of the code.\n",
    "By using abstract class we can HIDE unnecessary methods and properties which are not required in a particular class. See below example:\n"
   ]
  },
  {
   "cell_type": "code",
   "execution_count": 110,
   "id": "80f474d7",
   "metadata": {},
   "outputs": [],
   "source": [
    "from abc import ABC, abstractmethod, abstractproperty\n",
    "class vehicle(ABC):\n",
    "    def __init__(self, wheels):\n",
    "        self.wheels=wheels\n",
    "        \n",
    "    @abstractmethod\n",
    "    def move(self):\n",
    "        pass\n",
    "    \n",
    "    @abstractproperty\n",
    "    def wheels(self):\n",
    "        return self.wheels\n",
    "\n",
    "\n",
    "class land_vehicle(vehicle):\n",
    "    def __init__(self, wheels):\n",
    "        super().__init__(wheels)\n",
    "    \n",
    "    def move(self):\n",
    "        print(\"It can move on land\")\n",
    "    \n",
    "    def wheels(self):\n",
    "        print(self.wheels)\n",
    "    \n",
    "    def special_land_vehicle_method(self):\n",
    "        print(\"special method specific to land vehicle\")\n",
    "        \n",
    "class marine_vehicle(vehicle):\n",
    "    def __init__(self, wheels):\n",
    "        super().__init__(wheels)\n",
    "    \n",
    "    def move(self):\n",
    "        print(\"It can sail on water\")\n",
    "\n",
    "    def wheels(self):\n",
    "        print(self.wheels)\n",
    "        \n",
    "    def special_marine_vehicle_method(self):\n",
    "        print(\"special method specific to marine vehicle\")    \n",
    "\n",
    "class air_vehicle(vehicle):\n",
    "    def __init__(self, wheels):\n",
    "        super().__init__(wheels)\n",
    "    \n",
    "    def move(self):\n",
    "        print(\"It can fly in the sky\")\n",
    "    \n",
    "    def wheels(self):\n",
    "        print(self.wheels)\n",
    "    \n",
    "    def special_air_vehicle_method(self):\n",
    "        print(\"special method specific to air vehicle\")    \n",
    "        \n",
    "          "
   ]
  },
  {
   "cell_type": "code",
   "execution_count": 111,
   "id": "530f5868",
   "metadata": {
    "scrolled": true
   },
   "outputs": [
    {
     "name": "stdout",
     "output_type": "stream",
     "text": [
      "4\n",
      "3\n",
      "It can move on land\n",
      "special method specific to land vehicle\n"
     ]
    }
   ],
   "source": [
    "car=land_vehicle(4)\n",
    "print(car.wheels)\n",
    "\n",
    "auto=land_vehicle(3)\n",
    "print(auto.wheels)\n",
    "auto.move()\n",
    "auto.special_land_vehicle_method()"
   ]
  },
  {
   "cell_type": "markdown",
   "id": "3468ce3c",
   "metadata": {},
   "source": [
    "e.g. land_vehicle class derived from abstract vehicle class, so it will have all the abstract methods and abstract properties from vehicle class. land_vehicle class will also have some special methods related to land vehicle. But the properties and methods of marine_vehicle class and air_vehicle class will be Hidden for objects of land vehicle. "
   ]
  },
  {
   "cell_type": "code",
   "execution_count": 112,
   "id": "4d43c3a1",
   "metadata": {},
   "outputs": [
    {
     "name": "stdout",
     "output_type": "stream",
     "text": [
      "0\n",
      "6\n",
      "It can fly in the sky\n",
      "special method specific to air vehicle\n"
     ]
    }
   ],
   "source": [
    "helicopter=air_vehicle(0)\n",
    "print(helicopter.wheels)\n",
    "\n",
    "fighterjet=air_vehicle(6)\n",
    "print(fighterjet.wheels)\n",
    "fighterjet.move()\n",
    "fighterjet.special_air_vehicle_method()"
   ]
  },
  {
   "cell_type": "code",
   "execution_count": 114,
   "id": "589e6cdb",
   "metadata": {},
   "outputs": [
    {
     "name": "stdout",
     "output_type": "stream",
     "text": [
      "0\n",
      "It can sail on water\n",
      "special method specific to marine vehicle\n"
     ]
    }
   ],
   "source": [
    "ship=marine_vehicle(0)\n",
    "print(ship.wheels)\n",
    "ship.move()\n",
    "ship.special_marine_vehicle_method()"
   ]
  },
  {
   "cell_type": "markdown",
   "id": "1b352b01",
   "metadata": {},
   "source": [
    "Multiple Inheritance"
   ]
  },
  {
   "cell_type": "markdown",
   "id": "149aaa3f",
   "metadata": {},
   "source": [
    "With Inheritance, we can use the properties and methods of an already existing class in a new class. Inheritance allows code reusability.The existing class is the parent or superclass while the new class is the child or subclass.\n",
    "When a class inherits the properties and methods of two or more distinct classes, it is called multiple inheritance. "
   ]
  },
  {
   "cell_type": "code",
   "execution_count": 138,
   "id": "189b9206",
   "metadata": {},
   "outputs": [],
   "source": [
    "class A:\n",
    "    def __init__(self,property1,property2):\n",
    "        self.property1=property1\n",
    "        self.property2=property2\n",
    "        \n",
    "    def method1(self):\n",
    "        print(\"Method from class A\")\n",
    "    def method2(self):\n",
    "        pass\n",
    "    \n",
    "class B:\n",
    "    def __init__(self,property3):\n",
    "        self.property3=property3\n",
    "               \n",
    "    def method3(self):\n",
    "        print(\"Method from class B\")\n",
    "        \n",
    "    def method4(self):\n",
    "        pass\n",
    "\n",
    "class C(A,B):\n",
    "    def __init__(self,property1,property2,property3,property4):\n",
    "        A.__init__(self,property1,property2)\n",
    "        B.__init__(self,property3)\n",
    "        self.property4=property4\n",
    "               \n",
    "    def method5(self):\n",
    "        pass "
   ]
  },
  {
   "cell_type": "code",
   "execution_count": 141,
   "id": "8a679d83",
   "metadata": {},
   "outputs": [],
   "source": [
    "c=C(2,3,6,4)"
   ]
  },
  {
   "cell_type": "code",
   "execution_count": 142,
   "id": "62b11640",
   "metadata": {},
   "outputs": [
    {
     "name": "stdout",
     "output_type": "stream",
     "text": [
      "Method from class A\n"
     ]
    }
   ],
   "source": [
    "c.method1()"
   ]
  },
  {
   "cell_type": "code",
   "execution_count": 143,
   "id": "a47c1766",
   "metadata": {},
   "outputs": [
    {
     "name": "stdout",
     "output_type": "stream",
     "text": [
      "Method from class B\n"
     ]
    }
   ],
   "source": [
    "c.method3()"
   ]
  },
  {
   "cell_type": "markdown",
   "id": "7f8016a6",
   "metadata": {},
   "source": [
    "Decorators"
   ]
  },
  {
   "cell_type": "markdown",
   "id": "12273684",
   "metadata": {},
   "source": [
    "Decorators are used to change the behaviour of a function or a class without permanently modifying the function or class. \n",
    "With decorator we can wrap a function in another function with some additional actions."
   ]
  },
  {
   "cell_type": "code",
   "execution_count": 240,
   "id": "ba3bc7e8",
   "metadata": {},
   "outputs": [
    {
     "name": "stdout",
     "output_type": "stream",
     "text": [
      "9\n"
     ]
    }
   ],
   "source": [
    "def total(a_list):\n",
    "    print(sum(a_list))\n",
    "\n",
    "list_a=[4,5]    \n",
    "total(list_a)"
   ]
  },
  {
   "cell_type": "markdown",
   "id": "9aec85d4",
   "metadata": {},
   "source": [
    "Suppose, in a particular program we want make a new funtion to display the sum as well as elements in the list. We can do this without modifying the funtion using decorator as follows."
   ]
  },
  {
   "cell_type": "code",
   "execution_count": 243,
   "id": "6fdf1e51",
   "metadata": {},
   "outputs": [],
   "source": [
    "def n_decorator(func):\n",
    "    def inner(a_list):\n",
    "        print(a_list)\n",
    "        return func(a_list)\n",
    "    return inner\n",
    "\n",
    "total=n_decorator(total) #redefining total function \n",
    "  "
   ]
  },
  {
   "cell_type": "code",
   "execution_count": 244,
   "id": "6020cbcb",
   "metadata": {},
   "outputs": [
    {
     "name": "stdout",
     "output_type": "stream",
     "text": [
      "[4, 5]\n",
      "9\n"
     ]
    }
   ],
   "source": [
    "list_a=[4,5]  \n",
    "total(list_a)"
   ]
  },
  {
   "cell_type": "code",
   "execution_count": null,
   "id": "3c44c9f0",
   "metadata": {},
   "outputs": [],
   "source": []
  }
 ],
 "metadata": {
  "kernelspec": {
   "display_name": "Python 3 (ipykernel)",
   "language": "python",
   "name": "python3"
  },
  "language_info": {
   "codemirror_mode": {
    "name": "ipython",
    "version": 3
   },
   "file_extension": ".py",
   "mimetype": "text/x-python",
   "name": "python",
   "nbconvert_exporter": "python",
   "pygments_lexer": "ipython3",
   "version": "3.9.7"
  }
 },
 "nbformat": 4,
 "nbformat_minor": 5
}
